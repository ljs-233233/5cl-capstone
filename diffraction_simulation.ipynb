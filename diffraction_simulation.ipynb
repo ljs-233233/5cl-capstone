{
 "cells": [
  {
   "cell_type": "markdown",
   "id": "23a0f01c",
   "metadata": {},
   "source": [
    "# Physics 5CL Capstone\n",
    "The code in this notebook simulates the diffraction pattern of any pattern using the Fraunhofer Diffraction Equation. "
   ]
  },
  {
   "cell_type": "code",
   "execution_count": 1,
   "id": "ab473af4",
   "metadata": {},
   "outputs": [],
   "source": [
    "# Import libraries\n",
    "import numpy as np\n",
    "import numpy.fft as fft\n",
    "import matplotlib.pyplot as plt\n",
    "from PIL import Image\n",
    "from diffraction_class import *"
   ]
  },
  {
   "cell_type": "code",
   "execution_count": 2,
   "id": "a79b090b",
   "metadata": {},
   "outputs": [
    {
     "data": {
      "image/png": "[encoded data removed]",
      "text/plain": [
       "<Figure size 576x576 with 1 Axes>"
      ]
     },
     "metadata": {
      "needs_background": "light"
     },
     "output_type": "display_data"
    },
    {
     "data": {
      "image/png": "[encoded data removed]",
      "text/plain": [
       "<Figure size 576x576 with 1 Axes>"
      ]
     },
     "metadata": {
      "needs_background": "light"
     },
     "output_type": "display_data"
    }
   ],
   "source": [
    "# Circle\n",
    "circle_canvas = np.zeros((4096, 4096))\n",
    "for i in np.arange(4096):\n",
    "    for j in np.arange(4096):\n",
    "        di = np.abs(i - 2048)\n",
    "        dj = np.abs(j - 2048)\n",
    "        d = np.sqrt(di ** 2 + dj ** 2)\n",
    "        if d <= 64:\n",
    "            circle_canvas[i][j] = 1\n",
    "\n",
    "circle = Diffraction(circle_canvas)\n",
    "plot(circle, 256, 1024, \"Circle\", 0.000000001)"
   ]
  },
  {
   "cell_type": "code",
   "execution_count": null,
   "id": "812adc5b",
   "metadata": {},
   "outputs": [],
   "source": [
    "# Cross\n",
    "cross_canvas = np.zeros((4096, 4096))\n",
    "for i in np.arange(4096):\n",
    "    for j in np.arange(4096):\n",
    "        if 2048 - 64 <= i <= 2048 + 64:\n",
    "            if 2048 - 16 <= j <= 2048 + 16:\n",
    "                cross_canvas[i][j] = 1\n",
    "\n",
    "        if 2048 - 64 <= j <= 2048 + 64:\n",
    "            if 2048 - 16 <= i <= 2048 + 16:\n",
    "                cross_canvas[i][j] = 1\n",
    "\n",
    "cross = Diffraction(cross_canvas)\n",
    "plot(cross, 256, 1000, \"Cross\", 0.00000000025)"
   ]
  },
  {
   "cell_type": "code",
   "execution_count": null,
   "id": "d85b6069",
   "metadata": {},
   "outputs": [],
   "source": [
    "# Duck\n",
    "duck_image = Image.open(\"duck.jpg\")\n",
    "duck_array = np.array(duck_image).transpose()[0]\n",
    "duck_raw, duck_canvas = np.zeros((4096, 4096)), np.zeros((4096, 4096))\n",
    "duck_raw[2048 - 63: 2048 + 63, 2048 - 64: 2048 + 64] = duck_array\n",
    "for i in np.arange(4096):\n",
    "    for j in np.arange(4096):\n",
    "        duck_canvas[i][j] = duck_raw[j][-i]\n",
    "\n",
    "duck = Diffraction(duck_canvas)\n",
    "plot(duck, 256, 1024, \"Duck\", 0.0000075)"
   ]
  },
  {
   "cell_type": "code",
   "execution_count": null,
   "id": "52eef2bf",
   "metadata": {},
   "outputs": [],
   "source": [
    "# Olympic\n",
    "olympic_image = Image.open(\"olympic.jpg\")\n",
    "olympic_array = np.array(olympic_image).transpose()[0]\n",
    "olympic_raw, olympic_canvas = np.zeros((4096, 4096)), np.zeros((4096, 4096))\n",
    "olympic_raw[2048 - 63: 2048 + 63, 2048 - 63: 2048 + 63] = olympic_array\n",
    "for i in np.arange(4096):\n",
    "    for j in np.arange(4096):\n",
    "        olympic_canvas[i][j] = olympic_raw[j][-i]\n",
    "\n",
    "olympic = Diffraction(olympic_canvas)\n",
    "plot(olympic, 256, 1024, \"Olympic\", 0.0000025)"
   ]
  },
  {
   "cell_type": "code",
   "execution_count": null,
   "id": "459fed0b",
   "metadata": {},
   "outputs": [],
   "source": [
    "# Triangle\n",
    "triangle_image = Image.open(\"triangle.jpg\")\n",
    "triangle_array = np.array(triangle_image).transpose()[0]\n",
    "triangle_raw, triangle_canvas = np.zeros((4096, 4096)), np.zeros((4096, 4096))\n",
    "triangle_raw[2048 - 63: 2048 + 63, 2048 - 63: 2048 + 63] = triangle_array\n",
    "for i in np.arange(4096):\n",
    "    for j in np.arange(4096):\n",
    "        triangle_canvas[i][j] = triangle_raw[j][-i]\n",
    "\n",
    "triangle = Diffraction(triangle_canvas)\n",
    "plot(triangle, 256, 1024, \"Triangle\", 0.00001)"
   ]
  },
  {
   "cell_type": "code",
   "execution_count": null,
   "id": "3892034b",
   "metadata": {},
   "outputs": [],
   "source": [
    "# Cat\n",
    "cat_image = Image.open(\"cat.jpg\")\n",
    "cat_array = np.array(cat_image).transpose()[0]\n",
    "cat_raw, cat_canvas = np.zeros((4096, 4096)), np.zeros((4096, 4096))\n",
    "cat_raw[2048 - 64: 2048 + 64, 2048 - 64: 2048 + 64] = cat_array\n",
    "for i in np.arange(4096):\n",
    "    for j in np.arange(4096):\n",
    "        cat_canvas[i][j] = cat_raw[j][-i]\n",
    "\n",
    "cat = Diffraction(cat_canvas)\n",
    "plot(cat, 256, 1024, \"Cat\", 0.000005)"
   ]
  },
  {
   "cell_type": "code",
   "execution_count": null,
   "id": "0da9627a",
   "metadata": {},
   "outputs": [],
   "source": [
    "# Fence\n",
    "fence_image = Image.open(\"fence.jpg\")\n",
    "fence_array = np.array(fence_image).transpose()[0]\n",
    "fence_raw, fence_canvas = np.zeros((4096, 4096)), np.zeros((4096, 4096))\n",
    "fence_raw[2048 - 63: 2048 + 63, 2048 - 63: 2048 + 63] = fence_array\n",
    "for i in np.arange(4096):\n",
    "    for j in np.arange(4096):\n",
    "        fence_canvas[i][j] = fence_raw[j][-i]\n",
    "\n",
    "fence = Diffraction(fence_canvas)\n",
    "plot(fence, 256, 1024, \"Fence\", 0.000005)"
   ]
  },
  {
   "cell_type": "code",
   "execution_count": null,
   "id": "240bbc10",
   "metadata": {},
   "outputs": [],
   "source": [
    "# Spiky\n",
    "spiky_image = Image.open(\"spiky.jpg\")\n",
    "spiky_array = np.array(spiky_image).transpose()[0]\n",
    "spiky_raw, spiky_canvas = np.zeros((4096, 4096)), np.zeros((4096, 4096))\n",
    "spiky_raw[2048 - 63: 2048 + 63, 2048 - 64: 2048 + 64] = spiky_array\n",
    "for i in np.arange(4096):\n",
    "    for j in np.arange(4096):\n",
    "        spiky_canvas[i][j] = spiky_raw[j][-i]\n",
    "\n",
    "spiky = Diffraction(spiky_canvas)\n",
    "plot(spiky, 256, 1024, \"Spiky\", 0.0000025)"
   ]
  },
  {
   "cell_type": "code",
   "execution_count": null,
   "id": "c1a41df3",
   "metadata": {},
   "outputs": [],
   "source": [
    "# Target\n",
    "target_image = Image.open(\"target.jpg\")\n",
    "target_array = np.array(target_image).transpose()[0]\n",
    "target_raw, target_canvas = np.zeros((4096, 4096)), np.zeros((4096, 4096))\n",
    "target_raw[2048 - 63: 2048 + 63, 2048 - 64: 2048 + 64] = target_array\n",
    "for i in np.arange(4096):\n",
    "    for j in np.arange(4096):\n",
    "        target_canvas[i][j] = target_raw[j][-i]\n",
    "\n",
    "target = Diffraction(target_canvas)\n",
    "plot(target, 256, 1024, \"Target\", 0.00001)"
   ]
  },
  {
   "cell_type": "code",
   "execution_count": null,
   "id": "441c8387",
   "metadata": {},
   "outputs": [],
   "source": [
    "# 4 Square\n",
    "sq4_image = Image.open(\"sq4.jpg\")\n",
    "sq4_array = np.array(sq4_image).transpose()[0]\n",
    "sq4_raw, sq4_canvas = np.zeros((4096, 4096)), np.zeros((4096, 4096))\n",
    "sq4_raw[2048 - 64: 2048 + 64, 2048 - 64: 2048 + 64] = sq4_array\n",
    "for i in np.arange(4096):\n",
    "    for j in np.arange(4096):\n",
    "        sq4_canvas[i][j] = sq4_raw[j][-i]\n",
    "\n",
    "sq4 = Diffraction(sq4_canvas)\n",
    "plot(sq4, 256, 1024, \"4 Square\", 0.000005)"
   ]
  },
  {
   "cell_type": "code",
   "execution_count": null,
   "id": "22a92b57",
   "metadata": {},
   "outputs": [],
   "source": [
    "# 2 Triangle\n",
    "tr2_image = Image.open(\"tr2.jpg\")\n",
    "tr2_array = np.array(tr2_image).transpose()[0]\n",
    "tr2_raw, tr2_canvas = np.zeros((4096, 4096)), np.zeros((4096, 4096))\n",
    "tr2_raw[2048 - 64: 2048 + 64, 2048 - 63: 2048 + 63] = tr2_array\n",
    "for i in np.arange(4096):\n",
    "    for j in np.arange(4096):\n",
    "        tr2_canvas[i][j] = tr2_raw[j][-i]\n",
    "\n",
    "tr2 = Diffraction(tr2_canvas)\n",
    "plot(tr2, 256, 1024, \"2 Triangle\", 0.00001)"
   ]
  },
  {
   "cell_type": "code",
   "execution_count": null,
   "id": "f52ce623",
   "metadata": {},
   "outputs": [],
   "source": [
    "# 2 Hexagon\n",
    "he2_image = Image.open(\"he2.jpg\")\n",
    "he2_array = np.array(he2_image).transpose()[0]\n",
    "he2_raw, he2_canvas = np.zeros((4096, 4096)), np.zeros((4096, 4096))\n",
    "he2_raw[2048 - 64: 2048 + 64, 2048 - 63: 2048 + 63] = he2_array\n",
    "for i in np.arange(4096):\n",
    "    for j in np.arange(4096):\n",
    "        he2_canvas[i][j] = he2_raw[j][-i]\n",
    "\n",
    "he2 = Diffraction(he2_canvas)\n",
    "plot(he2, 256, 1024, \"2 Hexagon\", 0.00001)"
   ]
  },
  {
   "cell_type": "code",
   "execution_count": null,
   "id": "aabe9945",
   "metadata": {},
   "outputs": [],
   "source": []
  }
 ],
 "metadata": {
  "kernelspec": {
   "display_name": "Python 3 (ipykernel)",
   "language": "python",
   "name": "python3"
  },
  "language_info": {
   "codemirror_mode": {
    "name": "ipython",
    "version": 3
   },
   "file_extension": ".py",
   "mimetype": "text/x-python",
   "name": "python",
   "nbconvert_exporter": "python",
   "pygments_lexer": "ipython3",
   "version": "3.10.6"
  }
 },
 "nbformat": 4,
 "nbformat_minor": 5
}
