{
 "cells": [
  {
   "cell_type": "code",
   "execution_count": 1,
   "id": "5e8e1804",
   "metadata": {},
   "outputs": [],
   "source": [
    "# Import libraries\n",
    "import numpy as np\n",
    "import numpy.fft as fft\n",
    "import matplotlib.pyplot as plt\n",
    "import scipy\n",
    "from PIL import Image"
   ]
  },
  {
   "cell_type": "code",
   "execution_count": 2,
   "id": "78900797",
   "metadata": {},
   "outputs": [],
   "source": [
    "single_slit = np.append(np.append(np.zeros(100), np.array([1, 1, 1, 1, 1, 1, 1])), np.zeros(100))\n",
    "index = np.arange(len(single_slit)) - np.mean(np.arange(len(single_slit)))"
   ]
  },
  {
   "cell_type": "code",
   "execution_count": 3,
   "id": "14c76267",
   "metadata": {},
   "outputs": [
    {
     "data": {
      "text/plain": [
       "array([9.97238478e-01, 9.75325227e-01, 9.32444851e-01, 8.70450929e-01,\n",
       "       7.92028660e-01, 7.00584847e-01, 6.00108018e-01, 4.95004182e-01,\n",
       "       3.89914711e-01, 2.89523546e-01, 1.98361395e-01, 1.20614758e-01,\n",
       "       5.99474689e-02, 1.93420061e-02, 9.67140536e-04, 6.07747539e-03,\n",
       "       3.49492707e-02, 8.68555571e-02, 1.60082045e-01, 2.51983753e-01,\n",
       "       3.59080697e-01, 4.77189408e-01, 6.01585640e-01, 7.27192282e-01,\n",
       "       8.48785465e-01, 9.61210983e-01, 1.05960261e+00, 1.13959368e+00,\n",
       "       1.19751336e+00, 1.23055945e+00, 1.23694035e+00, 1.21597972e+00,\n",
       "       1.16817887e+00, 1.09523304e+00, 1.00000000e+00, 8.86420432e-01,\n",
       "       7.59392165e-01, 6.24601522e-01, 4.88317140e-01, 3.57153071e-01,\n",
       "       2.37809353e-01, 1.36799372e-01, 6.01741152e-02, 1.32538830e-02,\n",
       "       3.78098143e-04, 2.46835590e-02, 8.79207985e-02, 1.90317163e-01,\n",
       "       3.30493837e-01, 5.05442356e-01, 7.10564200e-01, 9.39774951e-01,\n",
       "       1.18567224e+00, 1.43976441e+00, 1.69275459e+00, 1.93487270e+00,\n",
       "       2.15624590e+00, 2.34729636e+00, 2.49915382e+00, 2.60406933e+00,\n",
       "       2.65581603e+00, 2.65006260e+00, 2.58470554e+00, 2.46014692e+00,\n",
       "       2.27950575e+00, 2.04875263e+00, 1.77675960e+00, 1.47525914e+00,\n",
       "       1.15870938e+00, 8.44065031e-01, 5.50456654e-01, 2.98783797e-01,\n",
       "       1.11230358e-01, 1.07132176e-02, 2.02775898e-02, 1.62454609e-01,\n",
       "       4.58598321e-01, 9.28220414e-01, 1.58834169e+00, 2.45287938e+00,\n",
       "       3.53208889e+00, 4.83207761e+00, 6.35440685e+00, 8.09579579e+00,\n",
       "       1.00479388e+01, 1.21974449e+01, 1.45259042e+01, 1.70100837e+01,\n",
       "       1.96222504e+01, 2.23306163e+01, 2.50998971e+01, 2.78919725e+01,\n",
       "       3.06666323e+01, 3.33823917e+01, 3.59973561e+01, 3.84701129e+01,\n",
       "       4.07606294e+01, 4.28311332e+01, 4.46469529e+01, 4.61772967e+01,\n",
       "       4.73959501e+01, 4.82818728e+01, 4.88196810e+01, 4.90000000e+01,\n",
       "       4.88196810e+01, 4.82818728e+01, 4.73959501e+01, 4.61772967e+01,\n",
       "       4.46469529e+01, 4.28311332e+01, 4.07606294e+01, 3.84701129e+01,\n",
       "       3.59973561e+01, 3.33823917e+01, 3.06666323e+01, 2.78919725e+01,\n",
       "       2.50998971e+01, 2.23306163e+01, 1.96222504e+01, 1.70100837e+01,\n",
       "       1.45259042e+01, 1.21974449e+01, 1.00479388e+01, 8.09579579e+00,\n",
       "       6.35440685e+00, 4.83207761e+00, 3.53208889e+00, 2.45287938e+00,\n",
       "       1.58834169e+00, 9.28220414e-01, 4.58598321e-01, 1.62454609e-01,\n",
       "       2.02775898e-02, 1.07132176e-02, 1.11230358e-01, 2.98783797e-01,\n",
       "       5.50456654e-01, 8.44065031e-01, 1.15870938e+00, 1.47525914e+00,\n",
       "       1.77675960e+00, 2.04875263e+00, 2.27950575e+00, 2.46014692e+00,\n",
       "       2.58470554e+00, 2.65006260e+00, 2.65581603e+00, 2.60406933e+00,\n",
       "       2.49915382e+00, 2.34729636e+00, 2.15624590e+00, 1.93487270e+00,\n",
       "       1.69275459e+00, 1.43976441e+00, 1.18567224e+00, 9.39774951e-01,\n",
       "       7.10564200e-01, 5.05442356e-01, 3.30493837e-01, 1.90317163e-01,\n",
       "       8.79207985e-02, 2.46835590e-02, 3.78098143e-04, 1.32538830e-02,\n",
       "       6.01741152e-02, 1.36799372e-01, 2.37809353e-01, 3.57153071e-01,\n",
       "       4.88317140e-01, 6.24601522e-01, 7.59392165e-01, 8.86420432e-01,\n",
       "       1.00000000e+00, 1.09523304e+00, 1.16817887e+00, 1.21597972e+00,\n",
       "       1.23694035e+00, 1.23055945e+00, 1.19751336e+00, 1.13959368e+00,\n",
       "       1.05960261e+00, 9.61210983e-01, 8.48785465e-01, 7.27192282e-01,\n",
       "       6.01585640e-01, 4.77189408e-01, 3.59080697e-01, 2.51983753e-01,\n",
       "       1.60082045e-01, 8.68555571e-02, 3.49492707e-02, 6.07747539e-03,\n",
       "       9.67140536e-04, 1.93420061e-02, 5.99474689e-02, 1.20614758e-01,\n",
       "       1.98361395e-01, 2.89523546e-01, 3.89914711e-01, 4.95004182e-01,\n",
       "       6.00108018e-01, 7.00584847e-01, 7.92028660e-01, 8.70450929e-01,\n",
       "       9.32444851e-01, 9.75325227e-01, 9.97238478e-01])"
      ]
     },
     "execution_count": 3,
     "metadata": {},
     "output_type": "execute_result"
    }
   ],
   "source": [
    "single_slit_transformed = fft.fftshift(fft.fft(single_slit))\n",
    "r = np.real(single_slit_transformed * np.conjugate(single_slit_transformed))\n",
    "r"
   ]
  },
  {
   "cell_type": "code",
   "execution_count": 4,
   "id": "348fd361",
   "metadata": {},
   "outputs": [
    {
     "data": {
      "image/png": "[encoded data removed]",
      "text/plain": [
       "<Figure size 432x432 with 1 Axes>"
      ]
     },
     "metadata": {
      "needs_background": "light"
     },
     "output_type": "display_data"
    }
   ],
   "source": [
    "fig = plt.figure()\n",
    "fig.set_size_inches(6, 6)\n",
    "ax = fig.add_subplot(111)\n",
    "\n",
    "ax.plot(index, r)\n",
    "ax.plot(index, single_slit)\n",
    "plt.show()"
   ]
  },
  {
   "cell_type": "code",
   "execution_count": 5,
   "id": "c1d9da52",
   "metadata": {},
   "outputs": [
    {
     "ename": "NameError",
     "evalue": "name 'im' is not defined",
     "output_type": "error",
     "traceback": [
      "\u001b[0;31m---------------------------------------------------------------------------\u001b[0m",
      "\u001b[0;31mNameError\u001b[0m                                 Traceback (most recent call last)",
      "Input \u001b[0;32mIn [5]\u001b[0m, in \u001b[0;36m<cell line: 1>\u001b[0;34m()\u001b[0m\n\u001b[0;32m----> 1\u001b[0m im_arr \u001b[38;5;241m=\u001b[39m np\u001b[38;5;241m.\u001b[39masarray(\u001b[43mim\u001b[49m)\u001b[38;5;241m.\u001b[39mtranspose()\n\u001b[1;32m      2\u001b[0m im_01 \u001b[38;5;241m=\u001b[39m \u001b[38;5;241m1\u001b[39m \u001b[38;5;241m-\u001b[39m im_arr \u001b[38;5;241m/\u001b[39m \u001b[38;5;241m255\u001b[39m\n\u001b[1;32m      3\u001b[0m im_01\n",
      "\u001b[0;31mNameError\u001b[0m: name 'im' is not defined"
     ]
    }
   ],
   "source": [
    "im_arr = np.asarray(im).transpose()\n",
    "im_01 = 1 - im_arr / 255\n",
    "im_01"
   ]
  },
  {
   "cell_type": "code",
   "execution_count": null,
   "id": "891a078f",
   "metadata": {},
   "outputs": [],
   "source": [
    "im_01[0].shape"
   ]
  },
  {
   "cell_type": "code",
   "execution_count": null,
   "id": "796df956",
   "metadata": {},
   "outputs": [],
   "source": [
    "r = np.vstack([im_01[0].transpose(), np.zeros(400)]).transpose()\n",
    "r"
   ]
  },
  {
   "cell_type": "code",
   "execution_count": null,
   "id": "8f90b4a6",
   "metadata": {},
   "outputs": [],
   "source": [
    "canvas = np.zeros((400 * 21, 400 * 21))\n",
    "canvas[400 * 10:400 * 11, 400 * 10:400 * 11] = r\n",
    "canvas"
   ]
  },
  {
   "cell_type": "code",
   "execution_count": null,
   "id": "d4baa409",
   "metadata": {},
   "outputs": [],
   "source": [
    "fig = plt.figure()\n",
    "fig.set_size_inches(8, 8)\n",
    "ax = fig.add_subplot(111)\n",
    "\n",
    "#ax.set_xlim(495, 505)\n",
    "#ax.set_ylim(495, 505)\n",
    "\n",
    "ax.imshow(canvas, cmap=\"gray\")\n",
    "plt.show()"
   ]
  },
  {
   "cell_type": "code",
   "execution_count": null,
   "id": "7957e85a",
   "metadata": {},
   "outputs": [],
   "source": [
    "circular_output = fft.fft2(1 - r)\n",
    "circular_intensity = np.absolute(circular_output)\n",
    "circular_intensity = circular_intensity / np.sqrt(np.sum(circular_intensity ** 2))\n",
    "circular_intensity"
   ]
  },
  {
   "cell_type": "code",
   "execution_count": null,
   "id": "cf334544",
   "metadata": {},
   "outputs": [],
   "source": [
    "fig = plt.figure()\n",
    "fig.set_size_inches(8, 8)\n",
    "ax = fig.add_subplot(111)\n",
    "\n",
    "#ax.set_xlim(2180, 2220)\n",
    "#ax.set_ylim(2180, 2220)\n",
    "\n",
    "ax.imshow(circular_intensity, cmap=\"gray\", interpolation = \"bilinear\", aspect ='auto')\n",
    "plt.show()"
   ]
  },
  {
   "cell_type": "code",
   "execution_count": null,
   "id": "f1625518",
   "metadata": {},
   "outputs": [],
   "source": []
  },
  {
   "cell_type": "markdown",
   "id": "079fa3dc",
   "metadata": {},
   "source": [
    "fig = plt.figure()\n",
    "fig.set_size_inches(8, 8)\n",
    "ax = fig.add_subplot(111)\n",
    "\n",
    "r = np.zeros((1000, 1000))\n",
    "\n",
    "r[497, 500] = 1\n",
    "r[498, 500] = 1\n",
    "r[499, 500] = 1\n",
    "r[500, 500] = 1\n",
    "r[501, 500] = 1\n",
    "r[502, 500] = 1\n",
    "r[503, 500] = 1\n",
    "\n",
    "r[498, 499] = 1\n",
    "r[499, 499] = 1\n",
    "r[500, 499] = 1\n",
    "r[501, 499] = 1\n",
    "r[502, 499] = 1\n",
    "\n",
    "r[498, 501] = 1\n",
    "r[499, 501] = 1\n",
    "r[500, 501] = 1\n",
    "r[501, 501] = 1\n",
    "r[502, 501] = 1\n",
    "\n",
    "r[499, 498] = 1\n",
    "r[500, 498] = 1\n",
    "r[501, 498] = 1\n",
    "\n",
    "r[499, 502] = 1\n",
    "r[500, 502] = 1\n",
    "r[501, 502] = 1\n",
    "\n",
    "r[500, 497] = 1\n",
    "\n",
    "r[500, 503] = 1\n",
    "\n",
    "#ax.set_xlim(495, 505)\n",
    "#ax.set_ylim(495, 505)\n",
    "\n",
    "ax.imshow(r, cmap=\"gray\")\n",
    "plt.show()"
   ]
  },
  {
   "cell_type": "markdown",
   "id": "33ba3d64",
   "metadata": {},
   "source": [
    "circular_output = fft.fft2(1 - r)\n",
    "circular_intensity = np.absolute(circular_output)\n",
    "circular_intensity = circular_intensity / np.sqrt(np.sum(circular_intensity ** 2))\n",
    "circular_intensity"
   ]
  },
  {
   "cell_type": "code",
   "execution_count": null,
   "id": "d262d9ff",
   "metadata": {},
   "outputs": [],
   "source": [
    "fig = plt.figure()\n",
    "fig.set_size_inches(8, 8)\n",
    "ax = fig.add_subplot(111)\n",
    "\n",
    "#ax.set_xlim(350, 650)\n",
    "#ax.set_ylim(350, 650)\n",
    "\n",
    "#cos_intensity = np.cos(circular_intensity)\n",
    "ax.imshow(circular_intensity, cmap=\"gray\", interpolation=\"bilinear\", aspect ='auto')\n",
    "plt.show()"
   ]
  },
  {
   "cell_type": "code",
   "execution_count": null,
   "id": "e1d3ab1b",
   "metadata": {},
   "outputs": [],
   "source": []
  },
  {
   "cell_type": "code",
   "execution_count": null,
   "id": "9209bb48",
   "metadata": {},
   "outputs": [],
   "source": [
    "# Something New"
   ]
  },
  {
   "cell_type": "code",
   "execution_count": null,
   "id": "9b4ec6de",
   "metadata": {},
   "outputs": [],
   "source": [
    "canvas = np.zeros((4096, 4096))\n",
    "for i in np.arange(4096):\n",
    "    for j in np.arange(4096):\n",
    "        di = np.abs(i - 2048)\n",
    "        dj = np.abs(j - 2048)\n",
    "        d = np.sqrt(di ** 2 + dj ** 2)\n",
    "        if d <= 256:\n",
    "            canvas[i][j] = 1\n",
    "canvas"
   ]
  },
  {
   "cell_type": "code",
   "execution_count": null,
   "id": "78d29232",
   "metadata": {},
   "outputs": [],
   "source": [
    "fig = plt.figure()\n",
    "fig.set_size_inches(8, 8)\n",
    "ax = fig.add_subplot(111)\n",
    "\n",
    "ax.imshow(canvas, cmap=\"gray\")\n",
    "plt.show()"
   ]
  },
  {
   "cell_type": "code",
   "execution_count": null,
   "id": "95a36400",
   "metadata": {},
   "outputs": [],
   "source": [
    "r.shape"
   ]
  },
  {
   "cell_type": "code",
   "execution_count": null,
   "id": "0e2bad43",
   "metadata": {},
   "outputs": [],
   "source": [
    "out = fft.fft2(1 - canvas)\n",
    "intensity = np.absolute(out)\n",
    "intensity = intensity / np.sqrt(np.sum(intensity ** 2))\n",
    "intensity"
   ]
  },
  {
   "cell_type": "code",
   "execution_count": null,
   "id": "f329dac2",
   "metadata": {},
   "outputs": [],
   "source": [
    "pattern = np.zeros(intensity.shape)\n",
    "\n",
    "canvas = np.zeros((4096, 4096))\n",
    "for i in np.arange(4096):\n",
    "    for j in np.arange(4096):\n",
    "        pattern[i][j] = intensity[(i + 2048) % 4096][(j + 2048) % 4096]\n",
    "pattern"
   ]
  },
  {
   "cell_type": "code",
   "execution_count": null,
   "id": "edb6c506",
   "metadata": {},
   "outputs": [],
   "source": [
    "fig = plt.figure()\n",
    "fig.set_size_inches(8, 8)\n",
    "ax = fig.add_subplot(111)\n",
    "\n",
    "ax.set_xlim(2048 - 256, 2048 + 256)\n",
    "ax.set_ylim(2048 - 256, 2048 + 256)\n",
    "\n",
    "ax.imshow(pattern, cmap=\"gray\", interpolation=\"bilinear\", aspect='auto', vmax=0.001)\n",
    "plt.show()"
   ]
  },
  {
   "cell_type": "code",
   "execution_count": null,
   "id": "e60df696",
   "metadata": {},
   "outputs": [],
   "source": []
  },
  {
   "cell_type": "code",
   "execution_count": null,
   "id": "3f8a007a",
   "metadata": {},
   "outputs": [],
   "source": [
    "\"\"\"\n",
    "canvas = np.zeros((4096, 4096))\n",
    "for i in np.arange(4096):\n",
    "    for j in np.arange(4096):\n",
    "        if 2048 - 256 <= i <= 2048 + 256:\n",
    "            di = 2048 - i\n",
    "            dj = 2048 - j\n",
    "            d = di + np.abs(dj)\n",
    "            if -256 <= d <= 256:\n",
    "                canvas[i][j] = 1\n",
    "        \n",
    "        if 2048 - 192 <= i <= 2048 + 192:\n",
    "            di = 2048 - i\n",
    "            dj = 2048 - j\n",
    "            d = di + np.abs(dj)\n",
    "            if -192 <= d <= 192:\n",
    "                canvas[i][j] = 0\n",
    "                \n",
    "canvas\n",
    "\"\"\""
   ]
  },
  {
   "cell_type": "code",
   "execution_count": null,
   "id": "ec8a75b2",
   "metadata": {},
   "outputs": [],
   "source": [
    "canvas = np.zeros((4096, 4096))\n",
    "for i in np.arange(4096):\n",
    "    for j in np.arange(4096):\n",
    "        if 2048 - 256 <= i <= 2048 + 256:\n",
    "            if 2048 - 64 <= j <= 2048 + 64:\n",
    "                canvas[i][j] = 1\n",
    "\n",
    "        if 2048 - 256 <= j <= 2048 + 256:\n",
    "            if 2048 - 64 <= i <= 2048 + 64:\n",
    "                canvas[i][j] = 1\n",
    "\n",
    "canvas"
   ]
  },
  {
   "cell_type": "code",
   "execution_count": null,
   "id": "39b98a03",
   "metadata": {},
   "outputs": [],
   "source": [
    "fig = plt.figure()\n",
    "fig.set_size_inches(8, 8)\n",
    "ax = fig.add_subplot(111)\n",
    "\n",
    "ax.imshow(canvas, cmap=\"gray\")\n",
    "plt.show()"
   ]
  },
  {
   "cell_type": "code",
   "execution_count": null,
   "id": "5c45c6d1",
   "metadata": {},
   "outputs": [],
   "source": [
    "out = fft.fft2(1 - canvas)\n",
    "intensity = np.absolute(out)\n",
    "intensity = intensity / np.sqrt(np.sum(intensity ** 2))\n",
    "intensity"
   ]
  },
  {
   "cell_type": "code",
   "execution_count": null,
   "id": "a99fc144",
   "metadata": {},
   "outputs": [],
   "source": [
    "pattern = np.zeros(intensity.shape)\n",
    "\n",
    "canvas = np.zeros((4096, 4096))\n",
    "for i in np.arange(4096):\n",
    "    for j in np.arange(4096):\n",
    "        pattern[i][j] = intensity[(i + 2048) % 4096][(j + 2048) % 4096]\n",
    "pattern"
   ]
  },
  {
   "cell_type": "code",
   "execution_count": null,
   "id": "74694fa4",
   "metadata": {},
   "outputs": [],
   "source": [
    "fig = plt.figure()\n",
    "fig.set_size_inches(8, 8)\n",
    "ax = fig.add_subplot(111)\n",
    "\n",
    "ax.set_xlim(2048 - 256, 2048 + 256)\n",
    "ax.set_ylim(2048 - 256, 2048 + 256)\n",
    "\n",
    "ax.imshow(pattern, cmap=\"gray\", interpolation=\"bilinear\", aspect='auto', vmax=0.001)\n",
    "plt.show()"
   ]
  },
  {
   "cell_type": "code",
   "execution_count": null,
   "id": "e1c5e9d5",
   "metadata": {},
   "outputs": [],
   "source": []
  },
  {
   "cell_type": "code",
   "execution_count": null,
   "id": "2e0c3d59",
   "metadata": {},
   "outputs": [],
   "source": []
  },
  {
   "cell_type": "code",
   "execution_count": null,
   "id": "01ba48b9",
   "metadata": {},
   "outputs": [],
   "source": []
  },
  {
   "cell_type": "code",
   "execution_count": null,
   "id": "c2a227f5",
   "metadata": {},
   "outputs": [],
   "source": []
  },
  {
   "cell_type": "code",
   "execution_count": null,
   "id": "08e72340",
   "metadata": {},
   "outputs": [],
   "source": []
  },
  {
   "cell_type": "code",
   "execution_count": null,
   "id": "31dc24bd",
   "metadata": {},
   "outputs": [],
   "source": []
  },
  {
   "cell_type": "code",
   "execution_count": null,
   "id": "79a3c4ed",
   "metadata": {},
   "outputs": [],
   "source": []
  }
 ],
 "metadata": {
  "kernelspec": {
   "display_name": "Python 3 (ipykernel)",
   "language": "python",
   "name": "python3"
  },
  "language_info": {
   "codemirror_mode": {
    "name": "ipython",
    "version": 3
   },
   "file_extension": ".py",
   "mimetype": "text/x-python",
   "name": "python",
   "nbconvert_exporter": "python",
   "pygments_lexer": "ipython3",
   "version": "3.10.6"
  }
 },
 "nbformat": 4,
 "nbformat_minor": 5
}
